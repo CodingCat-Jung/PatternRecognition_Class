{
 "cells": [
  {
   "cell_type": "code",
   "execution_count": 1,
   "id": "90eaf9b1",
   "metadata": {},
   "outputs": [
    {
     "name": "stdout",
     "output_type": "stream",
     "text": [
      "4.11.0\n"
     ]
    }
   ],
   "source": [
    "import cv2\n",
    "import numpy as np\n",
    "print(cv2.__version__)\n"
   ]
  },
  {
   "cell_type": "code",
   "execution_count": 2,
   "id": "2edfb6ef",
   "metadata": {},
   "outputs": [
    {
     "data": {
      "text/plain": [
       "array([[200, 200, 200, ..., 200, 200, 200],\n",
       "       [200, 200, 200, ..., 200, 200, 200],\n",
       "       [200, 200, 200, ..., 200, 200, 200],\n",
       "       ...,\n",
       "       [200, 200, 200, ..., 200, 200, 200],\n",
       "       [200, 200, 200, ..., 200, 200, 200],\n",
       "       [200, 200, 200, ..., 200, 200, 200]], dtype=uint8)"
      ]
     },
     "execution_count": 2,
     "metadata": {},
     "output_type": "execute_result"
    }
   ],
   "source": [
    "image = np.zeros((200, 400), np.uint8)\n",
    "\n",
    "image[:] = 200\n",
    "image"
   ]
  },
  {
   "cell_type": "code",
   "execution_count": 3,
   "id": "9818d01c",
   "metadata": {},
   "outputs": [],
   "source": [
    "title1, title2 = \"position1\", \"position2\"\n",
    "\n",
    "cv2.namedWindow(title1, flags=cv2.WINDOW_AUTOSIZE)\n",
    "cv2.namedWindow(title2, flags=cv2.WINDOW_NORMAL)"
   ]
  },
  {
   "cell_type": "code",
   "execution_count": 4,
   "id": "2e136c3c",
   "metadata": {},
   "outputs": [],
   "source": [
    "cv2.moveWindow(title1, 150, 150)\n",
    "cv2.moveWindow(title2, 400, 50)"
   ]
  },
  {
   "cell_type": "code",
   "execution_count": 5,
   "id": "2a10702f",
   "metadata": {},
   "outputs": [],
   "source": [
    "cv2.imshow(title1, image)\n",
    "cv2.imshow(title2, image)\n",
    "cv2.waitKey(0)\n",
    "cv2.destroyAllWindows()"
   ]
  },
  {
   "cell_type": "code",
   "execution_count": null,
   "id": "a9fb19a0",
   "metadata": {},
   "outputs": [],
   "source": [
    "cv2.imshow(title1, image)\n",
    "cv2.imshow(title2, image)\n",
    "\n",
    "cv2.resizeWindow(title1, 400, 300)\n",
    "cv2.resizeWindow(title2, 400, 300)\n",
    "\n",
    "cv2.waitKey(0)\n",
    "cv2.destroyAllWindows()"
   ]
  },
  {
   "cell_type": "code",
   "execution_count": 15,
   "id": "7a385dbd",
   "metadata": {},
   "outputs": [],
   "source": [
    "switch_case = {\n",
    "    ord('a'): \"a키 입력\",\n",
    "    ord('b'): \"b키 입력\",\n",
    "    0x41: \"A키 입력\",\n",
    "    int('0x42', 16): \"B키 입력\",\n",
    "    2424832: \"왼쪽 화살표키 입력\",\n",
    "    2490368: \"윗쪽 화살표키 입력\",\n",
    "    2555904: \"오른쪽 화살표키 입력\",\n",
    "    2621440: \"아래쪽 화살표키 입력\"\n",
    "}"
   ]
  },
  {
   "cell_type": "code",
   "execution_count": 16,
   "id": "8146b9bc",
   "metadata": {},
   "outputs": [
    {
     "name": "stdout",
     "output_type": "stream",
     "text": [
      "a키 입력\n",
      "a키 입력\n",
      "b키 입력\n",
      "A키 입력\n",
      "A키 입력\n"
     ]
    },
    {
     "ename": "KeyboardInterrupt",
     "evalue": "",
     "output_type": "error",
     "traceback": [
      "\u001b[1;31m---------------------------------------------------------------------------\u001b[0m",
      "\u001b[1;31mKeyboardInterrupt\u001b[0m                         Traceback (most recent call last)",
      "\u001b[1;32m~\\AppData\\Local\\Temp\\ipykernel_8864\\418660773.py\u001b[0m in \u001b[0;36m<module>\u001b[1;34m\u001b[0m\n\u001b[0;32m      4\u001b[0m \u001b[1;33m\u001b[0m\u001b[0m\n\u001b[0;32m      5\u001b[0m \u001b[1;32mwhile\u001b[0m \u001b[1;32mTrue\u001b[0m\u001b[1;33m:\u001b[0m\u001b[1;33m\u001b[0m\u001b[0m\n\u001b[1;32m----> 6\u001b[1;33m     \u001b[0mkey\u001b[0m \u001b[1;33m=\u001b[0m \u001b[0mcv2\u001b[0m\u001b[1;33m.\u001b[0m\u001b[0mwaitKey\u001b[0m\u001b[1;33m(\u001b[0m\u001b[1;36m100\u001b[0m\u001b[1;33m)\u001b[0m\u001b[1;33m\u001b[0m\u001b[0m\n\u001b[0m\u001b[0;32m      7\u001b[0m     \u001b[1;32mif\u001b[0m \u001b[0mkey\u001b[0m \u001b[1;33m==\u001b[0m \u001b[1;36m27\u001b[0m\u001b[1;33m:\u001b[0m \u001b[1;32mbreak\u001b[0m\u001b[1;33m\u001b[0m\u001b[0m\n\u001b[0;32m      8\u001b[0m \u001b[1;33m\u001b[0m\u001b[0m\n",
      "\u001b[1;31mKeyboardInterrupt\u001b[0m: "
     ]
    }
   ],
   "source": [
    "image = np.ones((200,300), np.float32)\n",
    "cv2.namedWindow(\"Keyboard Event\")\n",
    "cv2.imshow(\"Keyboard Event\", image)\n",
    "\n",
    "while True:\n",
    "    key = cv2.waitKey(100)\n",
    "    if key == 27: break\n",
    "        \n",
    "    try:\n",
    "        result = switch_case[key]\n",
    "        print(result)\n",
    "    \n",
    "    except KeyError:\n",
    "        result = -1\n",
    "        \n",
    "cv2.destroyAllWindows()"
   ]
  },
  {
   "cell_type": "code",
   "execution_count": 11,
   "id": "5c470abb",
   "metadata": {},
   "outputs": [],
   "source": [
    "def onMouse(event, x, y, flags, param):\n",
    "    if event == cv2.EVENT_LBUTTONDOWN:\n",
    "        print(\"마우스 왼쪽 버튼 누르기\")\n",
    "    elif event == cv2.EVENT_RBUTTONDOWN:\n",
    "        print(\"마우스 오른쪽 버튼 누르기\")\n",
    "    elif event == cv2.EVENT_RBUTTONUP:\n",
    "        print(\"마우스 오른쪽 버튼 떼기\")\n",
    "    elif event == cv2.EVENT_LBUTTONDBLCLK:\n",
    "        print(\"마우스 왼쪽 버튼 더블클릭\")"
   ]
  },
  {
   "cell_type": "code",
   "execution_count": 12,
   "id": "3b161d46",
   "metadata": {},
   "outputs": [
    {
     "name": "stdout",
     "output_type": "stream",
     "text": [
      "마우스 왼쪽 버튼 누르기\n",
      "마우스 왼쪽 버튼 더블클릭\n",
      "마우스 왼쪽 버튼 누르기\n",
      "마우스 왼쪽 버튼 누르기\n",
      "마우스 왼쪽 버튼 누르기\n",
      "마우스 왼쪽 버튼 더블클릭\n",
      "마우스 오른쪽 버튼 누르기\n",
      "마우스 오른쪽 버튼 떼기\n"
     ]
    }
   ],
   "source": [
    "image = np.full((200, 300), 255, np.uint8)\n",
    "\n",
    "title1, title2 = \"Mouse Event1\", \"Mouse Event2\"\n",
    "\n",
    "cv2.imshow(title1, image)\n",
    "cv2.imshow(title2, image)\n",
    "\n",
    "cv2.setMouseCallback(title1, onMouse)\n",
    "\n",
    "cv2.waitKey(0)\n",
    "cv2.destroyAllWindows()"
   ]
  },
  {
   "cell_type": "code",
   "execution_count": 17,
   "id": "a8f84ce1",
   "metadata": {},
   "outputs": [],
   "source": [
    "def onChange(value):\n",
    "    global image, title\n",
    "    add_value = value - int(image[0][0])\n",
    "    print(\"추가 화소값: \", add_value)\n",
    "    image[:] = image + add_value\n",
    "    cv2.imshow(title, image)"
   ]
  },
  {
   "cell_type": "code",
   "execution_count": 18,
   "id": "7d327705",
   "metadata": {},
   "outputs": [
    {
     "name": "stdout",
     "output_type": "stream",
     "text": [
      "추가 화소값:  1\n",
      "추가 화소값:  1\n",
      "추가 화소값:  1\n",
      "추가 화소값:  2\n",
      "추가 화소값:  1\n",
      "추가 화소값:  1\n",
      "추가 화소값:  2\n",
      "추가 화소값:  1\n",
      "추가 화소값:  2\n",
      "추가 화소값:  1\n",
      "추가 화소값:  1\n",
      "추가 화소값:  1\n",
      "추가 화소값:  1\n",
      "추가 화소값:  1\n",
      "추가 화소값:  1\n",
      "추가 화소값:  1\n",
      "추가 화소값:  1\n",
      "추가 화소값:  1\n",
      "추가 화소값:  1\n",
      "추가 화소값:  1\n",
      "추가 화소값:  1\n",
      "추가 화소값:  1\n",
      "추가 화소값:  1\n",
      "추가 화소값:  1\n",
      "추가 화소값:  1\n",
      "추가 화소값:  1\n",
      "추가 화소값:  2\n",
      "추가 화소값:  1\n",
      "추가 화소값:  1\n",
      "추가 화소값:  2\n",
      "추가 화소값:  1\n",
      "추가 화소값:  1\n",
      "추가 화소값:  1\n",
      "추가 화소값:  2\n",
      "추가 화소값:  2\n",
      "추가 화소값:  1\n",
      "추가 화소값:  1\n",
      "추가 화소값:  2\n",
      "추가 화소값:  1\n",
      "추가 화소값:  3\n",
      "추가 화소값:  2\n",
      "추가 화소값:  2\n",
      "추가 화소값:  2\n",
      "추가 화소값:  1\n",
      "추가 화소값:  2\n",
      "추가 화소값:  2\n",
      "추가 화소값:  2\n",
      "추가 화소값:  1\n",
      "추가 화소값:  1\n",
      "추가 화소값:  1\n",
      "추가 화소값:  1\n",
      "추가 화소값:  1\n",
      "추가 화소값:  1\n",
      "추가 화소값:  1\n",
      "추가 화소값:  1\n",
      "추가 화소값:  1\n",
      "추가 화소값:  1\n",
      "추가 화소값:  1\n",
      "추가 화소값:  1\n",
      "추가 화소값:  1\n",
      "추가 화소값:  1\n",
      "추가 화소값:  1\n",
      "추가 화소값:  1\n",
      "추가 화소값:  1\n",
      "추가 화소값:  1\n",
      "추가 화소값:  1\n",
      "추가 화소값:  2\n",
      "추가 화소값:  1\n",
      "추가 화소값:  1\n",
      "추가 화소값:  1\n",
      "추가 화소값:  1\n",
      "추가 화소값:  1\n",
      "추가 화소값:  1\n",
      "추가 화소값:  1\n",
      "추가 화소값:  2\n",
      "추가 화소값:  2\n",
      "추가 화소값:  1\n",
      "추가 화소값:  2\n",
      "추가 화소값:  2\n",
      "추가 화소값:  1\n",
      "추가 화소값:  1\n",
      "추가 화소값:  1\n",
      "추가 화소값:  1\n",
      "추가 화소값:  1\n",
      "추가 화소값:  1\n",
      "추가 화소값:  2\n",
      "추가 화소값:  1\n",
      "추가 화소값:  1\n",
      "추가 화소값:  2\n",
      "추가 화소값:  1\n",
      "추가 화소값:  2\n",
      "추가 화소값:  1\n",
      "추가 화소값:  1\n",
      "추가 화소값:  1\n",
      "추가 화소값:  2\n",
      "추가 화소값:  1\n",
      "추가 화소값:  1\n",
      "추가 화소값:  2\n",
      "추가 화소값:  1\n",
      "추가 화소값:  2\n",
      "추가 화소값:  1\n",
      "추가 화소값:  2\n",
      "추가 화소값:  2\n",
      "추가 화소값:  1\n",
      "추가 화소값:  1\n",
      "추가 화소값:  1\n",
      "추가 화소값:  1\n",
      "추가 화소값:  1\n",
      "추가 화소값:  1\n",
      "추가 화소값:  1\n",
      "추가 화소값:  1\n",
      "추가 화소값:  1\n",
      "추가 화소값:  1\n",
      "추가 화소값:  1\n",
      "추가 화소값:  1\n",
      "추가 화소값:  1\n",
      "추가 화소값:  1\n",
      "추가 화소값:  1\n",
      "추가 화소값:  1\n",
      "추가 화소값:  1\n",
      "추가 화소값:  1\n",
      "추가 화소값:  1\n",
      "추가 화소값:  1\n",
      "추가 화소값:  1\n",
      "추가 화소값:  1\n",
      "추가 화소값:  1\n",
      "추가 화소값:  1\n",
      "추가 화소값:  1\n",
      "추가 화소값:  -1\n",
      "추가 화소값:  -1\n",
      "추가 화소값:  -2\n",
      "추가 화소값:  -2\n",
      "추가 화소값:  -2\n",
      "추가 화소값:  -3\n",
      "추가 화소값:  -2\n",
      "추가 화소값:  -1\n",
      "추가 화소값:  -2\n",
      "추가 화소값:  -3\n",
      "추가 화소값:  -3\n",
      "추가 화소값:  -3\n",
      "추가 화소값:  -2\n",
      "추가 화소값:  -2\n",
      "추가 화소값:  -2\n",
      "추가 화소값:  -2\n",
      "추가 화소값:  -1\n",
      "추가 화소값:  -2\n",
      "추가 화소값:  -1\n",
      "추가 화소값:  -2\n",
      "추가 화소값:  -1\n",
      "추가 화소값:  -1\n",
      "추가 화소값:  -1\n",
      "추가 화소값:  -1\n",
      "추가 화소값:  -1\n",
      "추가 화소값:  -1\n",
      "추가 화소값:  -1\n",
      "추가 화소값:  -1\n",
      "추가 화소값:  -1\n",
      "추가 화소값:  -1\n",
      "추가 화소값:  -1\n",
      "추가 화소값:  -1\n",
      "추가 화소값:  -1\n",
      "추가 화소값:  -1\n"
     ]
    },
    {
     "data": {
      "text/plain": [
       "<function destroyAllWindows>"
      ]
     },
     "execution_count": 18,
     "metadata": {},
     "output_type": "execute_result"
    }
   ],
   "source": [
    "image = np.zeros((400, 600), np.uint8)\n",
    "\n",
    "title = \"Trackbar Event\"\n",
    "cv2.imshow(title, image)\n",
    "\n",
    "cv2.createTrackbar(\"Brighteness\", title, image[0][0], 255, onChange)\n",
    "\n",
    "cv2.waitKey(0)\n",
    "cv2.destroyAllWindows"
   ]
  },
  {
   "cell_type": "code",
   "execution_count": 19,
   "id": "319470c3",
   "metadata": {},
   "outputs": [],
   "source": [
    "blue, green, red = (255, 0 ,0), (0, 255, 0), (0, 0, 255)\n",
    "image = np.zeros((400, 600, 3), np.uint8)\n",
    "image[:] = (255, 255, 255)\n",
    "\n",
    "pt1, pt2 = (50, 50), (250, 150)\n",
    "pt3, pt4 = (400, 150), (500, 50)\n",
    "roi = (50, 200, 200 ,100)\n",
    "\n",
    "cv2.line(image, pt1, pt2, red)\n",
    "cv2.line(image, pt3, pt4, green, 3, cv2.LINE_AA)\n",
    "\n",
    "cv2.rectangle(image, pt1, pt2, blue, 3, cv2.LINE_4)\n",
    "cv2.rectangle(image, roi, red, 3, cv2.LINE_8)\n",
    "cv2.rectangle(image, (400, 200, 100, 100), green, cv2.FILLED)\n",
    "\n",
    "cv2.imshow(\"Line & Rectangle\", image)\n",
    "cv2.waitKey(0)\n",
    "cv2.destroyAllWindows()"
   ]
  },
  {
   "cell_type": "code",
   "execution_count": null,
   "id": "72df3224",
   "metadata": {},
   "outputs": [],
   "source": [
    "olive, violet, brown = (128, 128, 0), (221, 160, 221), (42, 42, 165)\n",
    "pt1, pt2 = (50, 230), (50, 310)\n",
    "\n",
    "image = np.zeros((350, 500, 3), np.uint8)\n",
    "image.fill(255)\n",
    "\n",
    "cv2.putText(image, 'SIMPLEX', (50, 50), cv2.FONT_HERSHEY_SIMPLEX, 2, brown)\n",
    "cv2.putText(image, 'DUPLEX', (50, 130), cv2.FONT_HERSHEY_DUPLEX, 3, olive)\n",
    "cv2.putText(image, 'TRIPLEX', pt1, cv2.FONT_HERSHEY_TRIPLEX, 2, violet)\n",
    "fontFace = cv2.FONT_HERSHEY_PLAIN | cv2.FONT_ITALIC\n",
    "cv2.putText(image, 'ITALIC', pt2, fontFace, 4, violet)\n",
    "\n",
    "cv2.imshow('Put Text', image)\n",
    "cv2.waitKey(0)"
   ]
  }
 ],
 "metadata": {
  "kernelspec": {
   "display_name": "Python 3 (ipykernel)",
   "language": "python",
   "name": "python3"
  },
  "language_info": {
   "codemirror_mode": {
    "name": "ipython",
    "version": 3
   },
   "file_extension": ".py",
   "mimetype": "text/x-python",
   "name": "python",
   "nbconvert_exporter": "python",
   "pygments_lexer": "ipython3",
   "version": "3.7.0"
  }
 },
 "nbformat": 4,
 "nbformat_minor": 5
}
