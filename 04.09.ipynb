{
 "cells": [
  {
   "cell_type": "code",
   "execution_count": 1,
   "id": "6e0a3086",
   "metadata": {},
   "outputs": [
    {
     "name": "stdout",
     "output_type": "stream",
     "text": [
      "4.11.0\n"
     ]
    }
   ],
   "source": [
    "import cv2\n",
    "import numpy as np\n",
    "print(cv2.__version__)\n"
   ]
  },
  {
   "cell_type": "code",
   "execution_count": null,
   "id": "76cf6446",
   "metadata": {},
   "outputs": [],
   "source": [
    "#04.09 챕터5. Open CV 및 사용자 인터페이스 2"
   ]
  },
  {
   "cell_type": "code",
   "execution_count": null,
   "id": "4a6ed6c7",
   "metadata": {},
   "outputs": [],
   "source": [
    "def print_matInfo(name, image):\n",
    "    if image.dtype == 'uint8': mat_type = 'CV_8U'\n",
    "    elif image.dtype == 'int8': mat_type = 'CV_8S'\n",
    "    elif image.dtype == 'uint16': mat_type = 'CV16U'\n",
    "    elif image.dtype == 'int16': mat_type = 'CV16S'\n",
    "    elif image.dtype == 'float32': mat_type = 'CV32F'\n",
    "    elif image.dtype == 'float64': mat_type = 'CV64F'\n",
    "        \n",
    "    nchannel = 3 if image.ndim == 3 else 1\n",
    "    \n",
    "    ## depth, channel 출력\n",
    "    print(\"%12s: depth(%s), channels(%s) -> mat_type(%sC%d)\" % (name, image.dtype, nchannel, mat_type, nchannel))"
   ]
  },
  {
   "cell_type": "code",
   "execution_count": null,
   "id": "8fa84a57",
   "metadata": {},
   "outputs": [],
   "source": [
    "title1, title2 = 'gray2gray', 'gray2color'\n",
    "gray2gray = cv2.imread(\"C:/Users/SAMSUNG/Desktop/Pattern_Recognition_Class/read_gray.jpg\", cv2.IMREAD_GRAYSCALE)\n",
    "gray2color = cv2.imread(\"C:/Users/SAMSUNG/Desktop/Pattern_Recognition_Class/read_color.jpg\", cv2.IMREAD_COLOR)\n",
    "\n",
    "print_matInfo(title1, gray2gray)\n",
    "print_matInfo(title2, gray2color)"
   ]
  },
  {
   "cell_type": "code",
   "execution_count": null,
   "id": "db352045",
   "metadata": {},
   "outputs": [],
   "source": [
    "if gray2gray is None or gray2color is None:\n",
    "    raise Exception(\"영상 파일 읽기 에러\")\n",
    "    \n",
    "# 행렬 좌표 (100, 100) 화소 값 출력\n",
    "print(\"행렬 좌표 (100, 100) 화소 값\")\n",
    "print(\"%s %s\" % (title1, gray2gray[100, 100]))\n",
    "print(\"%s %s\\n\" % (title2, gray2color[100, 100]))\n",
    "\n",
    "cv2.imshow(title1, gray2gray)\n",
    "cv2.imshow(title2, gray2color)\n",
    "cv2.waitKey(0)\n",
    "cv2.destroyAllWindows()"
   ]
  },
  {
   "cell_type": "code",
   "execution_count": null,
   "id": "0d92a4b9",
   "metadata": {},
   "outputs": [],
   "source": [
    "import cv2\n",
    "import numpy as np\n",
    "\n",
    "def print_matInfo(name, image):\n",
    "    if image is None:\n",
    "        print(f\"[오류] {name} 이미지를 읽을 수 없습니다.\")\n",
    "        return\n",
    "\n",
    "    if image.dtype == np.uint8: mat_type = 'CV_8U'\n",
    "    elif image.dtype == np.int8: mat_type = 'CV_8S'\n",
    "    elif image.dtype == np.uint16: mat_type = 'CV16U'\n",
    "    elif image.dtype == np.int16: mat_type = 'CV16S'\n",
    "    elif image.dtype == np.float32: mat_type = 'CV32F'\n",
    "    elif image.dtype == np.float64: mat_type = 'CV64F'\n",
    "    else: mat_type = 'Unknown'\n",
    "\n",
    "    nchannel = 3 if image.ndim == 3 else 1\n",
    "\n",
    "    print(\"%12s: depth(%s), channels(%s) -> mat_type(%sC%d)\" %\n",
    "          (name, image.dtype, nchannel, mat_type, nchannel))\n",
    "\n",
    "# --- 이미지 읽기\n",
    "title1, title2 = '16bit unchanged', '32bit unchanged'\n",
    "color2unchanged1 = cv2.imread(\"C:/Users/SAMSUNG/Desktop/Pattern_Recognition_Class/read_16.tif\", cv2.IMREAD_UNCHANGED)\n",
    "color2unchanged2 = cv2.imread(\"C:/Users/SAMSUNG/Desktop/Pattern_Recognition_Class/read_32.tif\", cv2.IMREAD_UNCHANGED)\n",
    "\n",
    "# --- 예외 처리\n",
    "if color2unchanged1 is None or color2unchanged2 is None:\n",
    "    raise Exception(\"영상 파일 읽기 에러\")\n",
    "\n",
    "# --- 화소값 출력\n",
    "print(\"16/32비트 영상 행렬 좌표(10, 10) 화소 값\")\n",
    "print(title1, \"원소 자료형: \", type(color2unchanged1[10][10][0]))\n",
    "print(title1, \"화소값(3원소): \", color2unchanged1[10, 10])\n",
    "print(title2, \"원소 자료형: \", type(color2unchanged2[10][10][0]))\n",
    "print(title2, \"화소값(3원소): \", color2unchanged2[10, 10])\n",
    "print()\n",
    "\n",
    "# --- 이미지 정보 출력\n",
    "print_matInfo(title1, color2unchanged1)\n",
    "print_matInfo(title2, color2unchanged2)\n",
    "\n",
    "# --- 이미지 표시\n",
    "cv2.imshow(title1, color2unchanged1.astype('uint8'))  # 16비트를 8비트로 보기 좋게 변환\n",
    "cv2.imshow(title2, (color2unchanged2 * 255).astype('uint8'))  # 32비트 float → 8비트로 스케일링\n",
    "cv2.waitKey(0)\n",
    "cv2.destroyAllWindows()"
   ]
  },
  {
   "cell_type": "code",
   "execution_count": null,
   "id": "0f9085bf",
   "metadata": {},
   "outputs": [],
   "source": [
    "image = cv2.imread(\"C:/Users/SAMSUNG/Desktop/Pattern_Recognition_Class/read_color.jpg\", cv2.IMREAD_COLOR)\n",
    "if image is None:\n",
    "    raise Exception(\"영상 파일 읽기 에러\")\n",
    "    \n",
    "params_jpg = (cv2.IMWRITE_JPEG_QUALITY, 10)\n",
    "params_png = [cv2.IMWRITE_PNG_COMPRESSION, 9]\n",
    "\n",
    "cv2.imwrite(\"C:/Users/SAMSUNG/Desktop/Pattern_Recognition_Class/images2/write_test1.jpg\", image)\n",
    "cv2.imwrite(\"C:/Users/SAMSUNG/Desktop/Pattern_Recognition_Class/images2/write_test2.jpg\", image, params_jpg)\n",
    "cv2.imwrite(\"C:/Users/SAMSUNG/Desktop/Pattern_Recognition_Class/images2/write_test3.jpg\", image, params_png)\n",
    "cv2.imwrite(\"C:/Users/SAMSUNG/Desktop/Pattern_Recognition_Class/images2/write_test4.bmp\", image)\n",
    "\n",
    "print(\"저장 완료\")"
   ]
  },
  {
   "cell_type": "code",
   "execution_count": null,
   "id": "3e632455",
   "metadata": {},
   "outputs": [],
   "source": [
    "import cv2\n",
    "import numpy as np\n",
    "\n",
    "image8 = cv2.imread(\"C:/Users/SAMSUNG/Desktop/Pattern_Recognition_Class/read_color.jpg\", cv2.IMREAD_COLOR)\n",
    "if image8 is None:\n",
    "    raise Exception(\"영상 파일 읽기 에러\")\n",
    "\n",
    "image16 = np.uint16(image8 * (65535 / 255))\n",
    "image32 = np.float32(image8 / 255.0)  # ✅ float32로 수정\n",
    "\n",
    "print(\"image8 행렬의 일부\\n\", image8[10:12, 10:13])\n",
    "print(\"image16 행렬의 일부\\n\", image16[10:12, 10:13])\n",
    "print(\"image32 행렬의 일부\\n\", image32[10:12, 10:13])\n",
    "\n",
    "# 저장 (float32는 직접 저장 안됨 → 8비트로 변환 후 저장)\n",
    "cv2.imwrite(\"C:/Users/SAMSUNG/Desktop/Pattern_Recognition_Class/images2/write_test_16.tif\", image16)\n",
    "cv2.imwrite(\"C:/Users/SAMSUNG/Desktop/Pattern_Recognition_Class/images2/write_test_32.tif\", (image32 * 255).astype('uint8'))\n",
    "\n",
    "# 표시\n",
    "cv2.imshow(\"image16\", image16.astype('uint8'))  # 보기용\n",
    "cv2.imshow(\"image32\", (image32 * 255).astype('uint8'))\n",
    "cv2.waitKey(0)\n",
    "cv2.destroyAllWindows()\n"
   ]
  },
  {
   "cell_type": "code",
   "execution_count": null,
   "id": "fb80ece3",
   "metadata": {},
   "outputs": [],
   "source": [
    "import cv2\n",
    "\n",
    "def put_string(frame, text, pt, value, color = (0, 0, 255)):\n",
    "    text += str(value)\n",
    "    shade = (pt[0] + 2, pt[1] + 2)\n",
    "    font = cv2.FONT_HERSHEY_SIMPLEX\n",
    "    cv2.putText(frame, text, shade, font, 0.7, (0, 0, 0), 2)\n",
    "    cv2.putText(frame, text, pt, font, 0.7, color, 2)\n",
    "    \n",
    "capture = cv2.VideoCapture(0)\n",
    "if capture.isOpened() == False:\n",
    "    raise Exception(\"카메라 연결 안 됨.\")\n",
    "    \n",
    "print(\"너비 %d\" % capture.get(cv2.CAP_PROP_FRAME_WIDTH))\n",
    "print(\"높이 %d\" % capture.get(cv2.CAP_PROP_FRAME_HEIGHT))\n",
    "print(\"노출 %f\" % capture.get(cv2.CAP_PROP_EXPOSURE))\n",
    "print(\"밝기 %f\" % capture.get(cv2.CAP_PROP_BRIGHTNESS))"
   ]
  },
  {
   "cell_type": "code",
   "execution_count": null,
   "id": "6df8943d",
   "metadata": {},
   "outputs": [],
   "source": [
    "while True:\n",
    "    ret, frame = capture.read()\n",
    "    if not ret:\n",
    "        break\n",
    "    if cv2.waitKey(30) >= 0:\n",
    "        break\n",
    "    \n",
    "    exposure = capture.get(cv2.CAP_PROP_EXPOSURE)\n",
    "    put_string(frame, 'EXPOS: ', (10, 40), exposure)\n",
    "    \n",
    "    title = \"View Frame from Camera\"\n",
    "    cv2.imshow(title, frame)\n",
    "    \n",
    "capture.release()\n",
    "cv2.destroyAllWindows()"
   ]
  },
  {
   "cell_type": "code",
   "execution_count": null,
   "id": "01baea47",
   "metadata": {},
   "outputs": [],
   "source": [
    "import cv2\n",
    "\n",
    "def put_string(frame, text, pt, value, color = (0, 0, 255)):\n",
    "    text += str(value)\n",
    "    shade = (pt[0] + 2, pt[1] + 2)\n",
    "    font = cv2.FONT_HERSHEY_SIMPLEX\n",
    "    cv2.putText(frame, text, shade, font, 0.7, (0, 0, 0), 2)\n",
    "    cv2.putText(frame, text, pt, font, 0.7, color, 2)\n",
    "    \n",
    "def zoom_bar(value):\n",
    "    global capture\n",
    "    capture.set(cv2.CAP_PROP_ZOOM, value) # 줌 설정\n",
    "\n",
    "def focus_bar(value):\n",
    "    global capture\n",
    "    capture.set(cv2.CAP_PROP_FOCUS, value)\n",
    "    \n",
    "capture = cv2.VideoCapture(0)\n",
    "if capture.isOpened() == False:\n",
    "    raise Exception(\"카메라 연결 안 됨.\")"
   ]
  },
  {
   "cell_type": "code",
   "execution_count": null,
   "id": "c01a2ac0",
   "metadata": {},
   "outputs": [],
   "source": [
    "title = \"Change Camera Properties\"\n",
    "cv2.namedWindow(title)\n",
    "cv2.createTrackbar('zoom', title, 0, 10, zoom_bar)\n",
    "cv2.createTrackbar('focus', title, 0, 40, focus_bar)\n",
    "\n",
    "while True:\n",
    "    ret, frame = capture.read()\n",
    "    if not ret:\n",
    "        break\n",
    "    if cv2.waitKey(30) >= 0:\n",
    "        break\n",
    "        \n",
    "    zoom = int(capture.get(cv2.CAP_PROP_ZOOM))\n",
    "    focus = int(capture.get(cv2.CAP_PROP_FOCUS))\n",
    "    \n",
    "    put_string(frame, 'zoom : ', (10, 240), zoom)\n",
    "    put_string(frame, 'focus : ', (10, 270), focus)\n",
    "    \n",
    "    cv2.imshow(title, frame)\n",
    "\n",
    "capture.release()\n",
    "cv2.destroyAllWindows()"
   ]
  }
 ],
 "metadata": {
  "kernelspec": {
   "display_name": "Python 3 (ipykernel)",
   "language": "python",
   "name": "python3"
  },
  "language_info": {
   "codemirror_mode": {
    "name": "ipython",
    "version": 3
   },
   "file_extension": ".py",
   "mimetype": "text/x-python",
   "name": "python",
   "nbconvert_exporter": "python",
   "pygments_lexer": "ipython3",
   "version": "3.7.0"
  }
 },
 "nbformat": 4,
 "nbformat_minor": 5
}
