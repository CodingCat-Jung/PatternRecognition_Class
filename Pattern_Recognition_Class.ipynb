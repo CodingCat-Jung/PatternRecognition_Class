{
 "cells": [
  {
   "cell_type": "code",
   "execution_count": 1,
   "id": "90eaf9b1",
   "metadata": {},
   "outputs": [
    {
     "name": "stdout",
     "output_type": "stream",
     "text": [
      "4.11.0\n"
     ]
    }
   ],
   "source": [
    "import cv2\n",
    "import numpy as np\n",
    "print(cv2.__version__)\n"
   ]
  },
  {
   "cell_type": "code",
   "execution_count": 2,
   "id": "2edfb6ef",
   "metadata": {},
   "outputs": [
    {
     "data": {
      "text/plain": [
       "array([[200, 200, 200, ..., 200, 200, 200],\n",
       "       [200, 200, 200, ..., 200, 200, 200],\n",
       "       [200, 200, 200, ..., 200, 200, 200],\n",
       "       ...,\n",
       "       [200, 200, 200, ..., 200, 200, 200],\n",
       "       [200, 200, 200, ..., 200, 200, 200],\n",
       "       [200, 200, 200, ..., 200, 200, 200]], dtype=uint8)"
      ]
     },
     "execution_count": 2,
     "metadata": {},
     "output_type": "execute_result"
    }
   ],
   "source": [
    "image = np.zeros((200, 400), np.uint8)\n",
    "\n",
    "image[:] = 200\n",
    "image"
   ]
  },
  {
   "cell_type": "code",
   "execution_count": 3,
   "id": "9818d01c",
   "metadata": {},
   "outputs": [],
   "source": [
    "title1, title2 = \"position1\", \"position2\"\n",
    "\n",
    "cv2.namedWindow(title1, flags=cv2.WINDOW_AUTOSIZE)\n",
    "cv2.namedWindow(title2, flags=cv2.WINDOW_NORMAL)"
   ]
  },
  {
   "cell_type": "code",
   "execution_count": 4,
   "id": "2e136c3c",
   "metadata": {},
   "outputs": [],
   "source": [
    "cv2.moveWindow(title1, 150, 150)\n",
    "cv2.moveWindow(title2, 400, 50)"
   ]
  },
  {
   "cell_type": "code",
   "execution_count": 5,
   "id": "2a10702f",
   "metadata": {},
   "outputs": [],
   "source": [
    "cv2.imshow(title1, image)\n",
    "cv2.imshow(title2, image)\n",
    "cv2.waitKey(0)\n",
    "cv2.destroyAllWindows()"
   ]
  },
  {
   "cell_type": "code",
   "execution_count": null,
   "id": "a9fb19a0",
   "metadata": {},
   "outputs": [],
   "source": [
    "cv2.imshow(title1, image)\n",
    "cv2.imshow(title2, image)\n",
    "\n",
    "cv2.resizeWindow(title1, 400, 300)\n",
    "cv2.resizeWindow(title2, 400, 300)\n",
    "\n",
    "cv2.waitKey(0)\n",
    "cv2.destroyAllWindows()"
   ]
  },
  {
   "cell_type": "code",
   "execution_count": 15,
   "id": "7a385dbd",
   "metadata": {},
   "outputs": [],
   "source": [
    "switch_case = {\n",
    "    ord('a'): \"a키 입력\",\n",
    "    ord('b'): \"b키 입력\",\n",
    "    0x41: \"A키 입력\",\n",
    "    int('0x42', 16): \"B키 입력\",\n",
    "    2424832: \"왼쪽 화살표키 입력\",\n",
    "    2490368: \"윗쪽 화살표키 입력\",\n",
    "    2555904: \"오른쪽 화살표키 입력\",\n",
    "    2621440: \"아래쪽 화살표키 입력\"\n",
    "}"
   ]
  },
  {
   "cell_type": "code",
   "execution_count": 16,
   "id": "8146b9bc",
   "metadata": {},
   "outputs": [
    {
     "name": "stdout",
     "output_type": "stream",
     "text": [
      "a키 입력\n",
      "a키 입력\n",
      "b키 입력\n",
      "A키 입력\n",
      "A키 입력\n"
     ]
    },
    {
     "ename": "KeyboardInterrupt",
     "evalue": "",
     "output_type": "error",
     "traceback": [
      "\u001b[1;31m---------------------------------------------------------------------------\u001b[0m",
      "\u001b[1;31mKeyboardInterrupt\u001b[0m                         Traceback (most recent call last)",
      "\u001b[1;32m~\\AppData\\Local\\Temp\\ipykernel_8864\\418660773.py\u001b[0m in \u001b[0;36m<module>\u001b[1;34m\u001b[0m\n\u001b[0;32m      4\u001b[0m \u001b[1;33m\u001b[0m\u001b[0m\n\u001b[0;32m      5\u001b[0m \u001b[1;32mwhile\u001b[0m \u001b[1;32mTrue\u001b[0m\u001b[1;33m:\u001b[0m\u001b[1;33m\u001b[0m\u001b[0m\n\u001b[1;32m----> 6\u001b[1;33m     \u001b[0mkey\u001b[0m \u001b[1;33m=\u001b[0m \u001b[0mcv2\u001b[0m\u001b[1;33m.\u001b[0m\u001b[0mwaitKey\u001b[0m\u001b[1;33m(\u001b[0m\u001b[1;36m100\u001b[0m\u001b[1;33m)\u001b[0m\u001b[1;33m\u001b[0m\u001b[0m\n\u001b[0m\u001b[0;32m      7\u001b[0m     \u001b[1;32mif\u001b[0m \u001b[0mkey\u001b[0m \u001b[1;33m==\u001b[0m \u001b[1;36m27\u001b[0m\u001b[1;33m:\u001b[0m \u001b[1;32mbreak\u001b[0m\u001b[1;33m\u001b[0m\u001b[0m\n\u001b[0;32m      8\u001b[0m \u001b[1;33m\u001b[0m\u001b[0m\n",
      "\u001b[1;31mKeyboardInterrupt\u001b[0m: "
     ]
    }
   ],
   "source": [
    "image = np.ones((200,300), np.float32)\n",
    "cv2.namedWindow(\"Keyboard Event\")\n",
    "cv2.imshow(\"Keyboard Event\", image)\n",
    "\n",
    "while True:\n",
    "    key = cv2.waitKey(100)\n",
    "    if key == 27: break\n",
    "        \n",
    "    try:\n",
    "        result = switch_case[key]\n",
    "        print(result)\n",
    "    \n",
    "    except KeyError:\n",
    "        result = -1\n",
    "        \n",
    "cv2.destroyAllWindows()"
   ]
  },
  {
   "cell_type": "code",
   "execution_count": 11,
   "id": "5c470abb",
   "metadata": {},
   "outputs": [],
   "source": [
    "def onMouse(event, x, y, flags, param):\n",
    "    if event == cv2.EVENT_LBUTTONDOWN:\n",
    "        print(\"마우스 왼쪽 버튼 누르기\")\n",
    "    elif event == cv2.EVENT_RBUTTONDOWN:\n",
    "        print(\"마우스 오른쪽 버튼 누르기\")\n",
    "    elif event == cv2.EVENT_RBUTTONUP:\n",
    "        print(\"마우스 오른쪽 버튼 떼기\")\n",
    "    elif event == cv2.EVENT_LBUTTONDBLCLK:\n",
    "        print(\"마우스 왼쪽 버튼 더블클릭\")"
   ]
  },
  {
   "cell_type": "code",
   "execution_count": 12,
   "id": "3b161d46",
   "metadata": {},
   "outputs": [
    {
     "name": "stdout",
     "output_type": "stream",
     "text": [
      "마우스 왼쪽 버튼 누르기\n",
      "마우스 왼쪽 버튼 더블클릭\n",
      "마우스 왼쪽 버튼 누르기\n",
      "마우스 왼쪽 버튼 누르기\n",
      "마우스 왼쪽 버튼 누르기\n",
      "마우스 왼쪽 버튼 더블클릭\n",
      "마우스 오른쪽 버튼 누르기\n",
      "마우스 오른쪽 버튼 떼기\n"
     ]
    }
   ],
   "source": [
    "image = np.full((200, 300), 255, np.uint8)\n",
    "\n",
    "title1, title2 = \"Mouse Event1\", \"Mouse Event2\"\n",
    "\n",
    "cv2.imshow(title1, image)\n",
    "cv2.imshow(title2, image)\n",
    "\n",
    "cv2.setMouseCallback(title1, onMouse)\n",
    "\n",
    "cv2.waitKey(0)\n",
    "cv2.destroyAllWindows()"
   ]
  },
  {
   "cell_type": "code",
   "execution_count": 17,
   "id": "a8f84ce1",
   "metadata": {},
   "outputs": [],
   "source": [
    "def onChange(value):\n",
    "    global image, title\n",
    "    add_value = value - int(image[0][0])\n",
    "    print(\"추가 화소값: \", add_value)\n",
    "    image[:] = image + add_value\n",
    "    cv2.imshow(title, image)"
   ]
  },
  {
   "cell_type": "code",
   "execution_count": 18,
   "id": "7d327705",
   "metadata": {},
   "outputs": [
    {
     "name": "stdout",
     "output_type": "stream",
     "text": [
      "추가 화소값:  1\n",
      "추가 화소값:  1\n",
      "추가 화소값:  1\n",
      "추가 화소값:  2\n",
      "추가 화소값:  1\n",
      "추가 화소값:  1\n",
      "추가 화소값:  2\n",
      "추가 화소값:  1\n",
      "추가 화소값:  2\n",
      "추가 화소값:  1\n",
      "추가 화소값:  1\n",
      "추가 화소값:  1\n",
      "추가 화소값:  1\n",
      "추가 화소값:  1\n",
      "추가 화소값:  1\n",
      "추가 화소값:  1\n",
      "추가 화소값:  1\n",
      "추가 화소값:  1\n",
      "추가 화소값:  1\n",
      "추가 화소값:  1\n",
      "추가 화소값:  1\n",
      "추가 화소값:  1\n",
      "추가 화소값:  1\n",
      "추가 화소값:  1\n",
      "추가 화소값:  1\n",
      "추가 화소값:  1\n",
      "추가 화소값:  2\n",
      "추가 화소값:  1\n",
      "추가 화소값:  1\n",
      "추가 화소값:  2\n",
      "추가 화소값:  1\n",
      "추가 화소값:  1\n",
      "추가 화소값:  1\n",
      "추가 화소값:  2\n",
      "추가 화소값:  2\n",
      "추가 화소값:  1\n",
      "추가 화소값:  1\n",
      "추가 화소값:  2\n",
      "추가 화소값:  1\n",
      "추가 화소값:  3\n",
      "추가 화소값:  2\n",
      "추가 화소값:  2\n",
      "추가 화소값:  2\n",
      "추가 화소값:  1\n",
      "추가 화소값:  2\n",
      "추가 화소값:  2\n",
      "추가 화소값:  2\n",
      "추가 화소값:  1\n",
      "추가 화소값:  1\n",
      "추가 화소값:  1\n",
      "추가 화소값:  1\n",
      "추가 화소값:  1\n",
      "추가 화소값:  1\n",
      "추가 화소값:  1\n",
      "추가 화소값:  1\n",
      "추가 화소값:  1\n",
      "추가 화소값:  1\n",
      "추가 화소값:  1\n",
      "추가 화소값:  1\n",
      "추가 화소값:  1\n",
      "추가 화소값:  1\n",
      "추가 화소값:  1\n",
      "추가 화소값:  1\n",
      "추가 화소값:  1\n",
      "추가 화소값:  1\n",
      "추가 화소값:  1\n",
      "추가 화소값:  2\n",
      "추가 화소값:  1\n",
      "추가 화소값:  1\n",
      "추가 화소값:  1\n",
      "추가 화소값:  1\n",
      "추가 화소값:  1\n",
      "추가 화소값:  1\n",
      "추가 화소값:  1\n",
      "추가 화소값:  2\n",
      "추가 화소값:  2\n",
      "추가 화소값:  1\n",
      "추가 화소값:  2\n",
      "추가 화소값:  2\n",
      "추가 화소값:  1\n",
      "추가 화소값:  1\n",
      "추가 화소값:  1\n",
      "추가 화소값:  1\n",
      "추가 화소값:  1\n",
      "추가 화소값:  1\n",
      "추가 화소값:  2\n",
      "추가 화소값:  1\n",
      "추가 화소값:  1\n",
      "추가 화소값:  2\n",
      "추가 화소값:  1\n",
      "추가 화소값:  2\n",
      "추가 화소값:  1\n",
      "추가 화소값:  1\n",
      "추가 화소값:  1\n",
      "추가 화소값:  2\n",
      "추가 화소값:  1\n",
      "추가 화소값:  1\n",
      "추가 화소값:  2\n",
      "추가 화소값:  1\n",
      "추가 화소값:  2\n",
      "추가 화소값:  1\n",
      "추가 화소값:  2\n",
      "추가 화소값:  2\n",
      "추가 화소값:  1\n",
      "추가 화소값:  1\n",
      "추가 화소값:  1\n",
      "추가 화소값:  1\n",
      "추가 화소값:  1\n",
      "추가 화소값:  1\n",
      "추가 화소값:  1\n",
      "추가 화소값:  1\n",
      "추가 화소값:  1\n",
      "추가 화소값:  1\n",
      "추가 화소값:  1\n",
      "추가 화소값:  1\n",
      "추가 화소값:  1\n",
      "추가 화소값:  1\n",
      "추가 화소값:  1\n",
      "추가 화소값:  1\n",
      "추가 화소값:  1\n",
      "추가 화소값:  1\n",
      "추가 화소값:  1\n",
      "추가 화소값:  1\n",
      "추가 화소값:  1\n",
      "추가 화소값:  1\n",
      "추가 화소값:  1\n",
      "추가 화소값:  1\n",
      "추가 화소값:  1\n",
      "추가 화소값:  -1\n",
      "추가 화소값:  -1\n",
      "추가 화소값:  -2\n",
      "추가 화소값:  -2\n",
      "추가 화소값:  -2\n",
      "추가 화소값:  -3\n",
      "추가 화소값:  -2\n",
      "추가 화소값:  -1\n",
      "추가 화소값:  -2\n",
      "추가 화소값:  -3\n",
      "추가 화소값:  -3\n",
      "추가 화소값:  -3\n",
      "추가 화소값:  -2\n",
      "추가 화소값:  -2\n",
      "추가 화소값:  -2\n",
      "추가 화소값:  -2\n",
      "추가 화소값:  -1\n",
      "추가 화소값:  -2\n",
      "추가 화소값:  -1\n",
      "추가 화소값:  -2\n",
      "추가 화소값:  -1\n",
      "추가 화소값:  -1\n",
      "추가 화소값:  -1\n",
      "추가 화소값:  -1\n",
      "추가 화소값:  -1\n",
      "추가 화소값:  -1\n",
      "추가 화소값:  -1\n",
      "추가 화소값:  -1\n",
      "추가 화소값:  -1\n",
      "추가 화소값:  -1\n",
      "추가 화소값:  -1\n",
      "추가 화소값:  -1\n",
      "추가 화소값:  -1\n",
      "추가 화소값:  -1\n"
     ]
    },
    {
     "data": {
      "text/plain": [
       "<function destroyAllWindows>"
      ]
     },
     "execution_count": 18,
     "metadata": {},
     "output_type": "execute_result"
    }
   ],
   "source": [
    "image = np.zeros((400, 600), np.uint8)\n",
    "\n",
    "title = \"Trackbar Event\"\n",
    "cv2.imshow(title, image)\n",
    "\n",
    "cv2.createTrackbar(\"Brighteness\", title, image[0][0], 255, onChange)\n",
    "\n",
    "cv2.waitKey(0)\n",
    "cv2.destroyAllWindows"
   ]
  },
  {
   "cell_type": "code",
   "execution_count": 19,
   "id": "319470c3",
   "metadata": {},
   "outputs": [],
   "source": [
    "blue, green, red = (255, 0 ,0), (0, 255, 0), (0, 0, 255)\n",
    "image = np.zeros((400, 600, 3), np.uint8)\n",
    "image[:] = (255, 255, 255)\n",
    "\n",
    "pt1, pt2 = (50, 50), (250, 150)\n",
    "pt3, pt4 = (400, 150), (500, 50)\n",
    "roi = (50, 200, 200 ,100)\n",
    "\n",
    "cv2.line(image, pt1, pt2, red)\n",
    "cv2.line(image, pt3, pt4, green, 3, cv2.LINE_AA)\n",
    "\n",
    "cv2.rectangle(image, pt1, pt2, blue, 3, cv2.LINE_4)\n",
    "cv2.rectangle(image, roi, red, 3, cv2.LINE_8)\n",
    "cv2.rectangle(image, (400, 200, 100, 100), green, cv2.FILLED)\n",
    "\n",
    "cv2.imshow(\"Line & Rectangle\", image)\n",
    "cv2.waitKey(0)\n",
    "cv2.destroyAllWindows()"
   ]
  },
  {
   "cell_type": "code",
   "execution_count": null,
   "id": "72df3224",
   "metadata": {},
   "outputs": [],
   "source": [
    "olive, violet, brown = (128, 128, 0), (221, 160, 221), (42, 42, 165)\n",
    "pt1, pt2 = (50, 230), (50, 310)\n",
    "\n",
    "image = np.zeros((350, 500, 3), np.uint8)\n",
    "image.fill(255)\n",
    "\n",
    "cv2.putText(image, 'SIMPLEX', (50, 50), cv2.FONT_HERSHEY_SIMPLEX, 2, brown)\n",
    "cv2.putText(image, 'DUPLEX', (50, 130), cv2.FONT_HERSHEY_DUPLEX, 3, olive)\n",
    "cv2.putText(image, 'TRIPLEX', pt1, cv2.FONT_HERSHEY_TRIPLEX, 2, violet)\n",
    "fontFace = cv2.FONT_HERSHEY_PLAIN | cv2.FONT_ITALIC\n",
    "cv2.putText(image, 'ITALIC', pt2, fontFace, 4, violet)\n",
    "\n",
    "cv2.imshow('Put Text', image)\n",
    "cv2.waitKey(0)"
   ]
  },
  {
   "cell_type": "code",
   "execution_count": null,
   "id": "a8f86c7e",
   "metadata": {},
   "outputs": [],
   "source": [
    "#04.09 챕터5. Open CV 및 사용자 인터페이스 2"
   ]
  },
  {
   "cell_type": "code",
   "execution_count": 4,
   "id": "957bc6fb",
   "metadata": {},
   "outputs": [],
   "source": [
    "def print_matInfo(name, image):\n",
    "    if image.dtype == 'uint8': mat_type = 'CV_8U'\n",
    "    elif image.dtype == 'int8': mat_type = 'CV_8S'\n",
    "    elif image.dtype == 'uint16': mat_type = 'CV16U'\n",
    "    elif image.dtype == 'int16': mat_type = 'CV16S'\n",
    "    elif image.dtype == 'float32': mat_type = 'CV32F'\n",
    "    elif image.dtype == 'float64': mat_type = 'CV64F'\n",
    "        \n",
    "    nchannel = 3 if image.ndim == 3 else 1\n",
    "    \n",
    "    ## depth, channel 출력\n",
    "    print(\"%12s: depth(%s), channels(%s) -> mat_type(%sC%d)\" % (name, image.dtype, nchannel, mat_type, nchannel))"
   ]
  },
  {
   "cell_type": "code",
   "execution_count": 5,
   "id": "0a42b0ee",
   "metadata": {},
   "outputs": [
    {
     "name": "stdout",
     "output_type": "stream",
     "text": [
      "   gray2gray: depth(uint8), channels(1) -> mat_type(CV_8UC1)\n",
      "  gray2color: depth(uint8), channels(3) -> mat_type(CV_8UC3)\n"
     ]
    }
   ],
   "source": [
    "title1, title2 = 'gray2gray', 'gray2color'\n",
    "gray2gray = cv2.imread(\"C:/Users/SAMSUNG/Desktop/Pattern_Recognition_Class/read_gray.jpg\", cv2.IMREAD_GRAYSCALE)\n",
    "gray2color = cv2.imread(\"C:/Users/SAMSUNG/Desktop/Pattern_Recognition_Class/read_color.jpg\", cv2.IMREAD_COLOR)\n",
    "\n",
    "print_matInfo(title1, gray2gray)\n",
    "print_matInfo(title2, gray2color)"
   ]
  },
  {
   "cell_type": "code",
   "execution_count": null,
   "id": "efa6e992",
   "metadata": {},
   "outputs": [
    {
     "name": "stdout",
     "output_type": "stream",
     "text": [
      "행렬 좌표 (100, 100) 화소 값\n",
      "gray2gray 106\n",
      "gray2color [197 145  98]\n",
      "\n"
     ]
    }
   ],
   "source": [
    "if gray2gray is None or gray2color is None:\n",
    "    raise Exception(\"영상 파일 읽기 에러\")\n",
    "    \n",
    "# 행렬 좌표 (100, 100) 화소 값 출력\n",
    "print(\"행렬 좌표 (100, 100) 화소 값\")\n",
    "print(\"%s %s\" % (title1, gray2gray[100, 100]))\n",
    "print(\"%s %s\\n\" % (title2, gray2color[100, 100]))\n",
    "\n",
    "cv2.imshow(title1, gray2gray)\n",
    "cv2.imshow(title2, gray2color)\n",
    "cv2.waitKey(0)\n",
    "cv2.destroyAllWindows()"
   ]
  },
  {
   "cell_type": "code",
   "execution_count": null,
   "id": "f6008db2",
   "metadata": {},
   "outputs": [
    {
     "name": "stdout",
     "output_type": "stream",
     "text": [
      "16/32비트 영상 행렬 좌표(10, 10) 화소 값\n",
      "16bit unchanged 원소 자료형:  <class 'numpy.uint16'>\n",
      "16bit unchanged 화소값(3원소):  [48573 34438 23387]\n",
      "32bit unchanged 원소 자료형:  <class 'numpy.float32'>\n",
      "32bit unchanged 화소값(3원소):  [0.7456989  0.52237624 0.36376417]\n",
      "\n",
      "16bit unchanged: depth(uint16), channels(3) -> mat_type(CV16UC3)\n",
      "32bit unchanged: depth(float32), channels(3) -> mat_type(CV32FC3)\n"
     ]
    }
   ],
   "source": [
    "import cv2\n",
    "import numpy as np\n",
    "\n",
    "def print_matInfo(name, image):\n",
    "    if image is None:\n",
    "        print(f\"[오류] {name} 이미지를 읽을 수 없습니다.\")\n",
    "        return\n",
    "\n",
    "    if image.dtype == np.uint8: mat_type = 'CV_8U'\n",
    "    elif image.dtype == np.int8: mat_type = 'CV_8S'\n",
    "    elif image.dtype == np.uint16: mat_type = 'CV16U'\n",
    "    elif image.dtype == np.int16: mat_type = 'CV16S'\n",
    "    elif image.dtype == np.float32: mat_type = 'CV32F'\n",
    "    elif image.dtype == np.float64: mat_type = 'CV64F'\n",
    "    else: mat_type = 'Unknown'\n",
    "\n",
    "    nchannel = 3 if image.ndim == 3 else 1\n",
    "\n",
    "    print(\"%12s: depth(%s), channels(%s) -> mat_type(%sC%d)\" %\n",
    "          (name, image.dtype, nchannel, mat_type, nchannel))\n",
    "\n",
    "# --- 이미지 읽기\n",
    "title1, title2 = '16bit unchanged', '32bit unchanged'\n",
    "color2unchanged1 = cv2.imread(\"C:/Users/SAMSUNG/Desktop/Pattern_Recognition_Class/read_16.tif\", cv2.IMREAD_UNCHANGED)\n",
    "color2unchanged2 = cv2.imread(\"C:/Users/SAMSUNG/Desktop/Pattern_Recognition_Class/read_32.tif\", cv2.IMREAD_UNCHANGED)\n",
    "\n",
    "# --- 예외 처리\n",
    "if color2unchanged1 is None or color2unchanged2 is None:\n",
    "    raise Exception(\"영상 파일 읽기 에러\")\n",
    "\n",
    "# --- 화소값 출력\n",
    "print(\"16/32비트 영상 행렬 좌표(10, 10) 화소 값\")\n",
    "print(title1, \"원소 자료형: \", type(color2unchanged1[10][10][0]))\n",
    "print(title1, \"화소값(3원소): \", color2unchanged1[10, 10])\n",
    "print(title2, \"원소 자료형: \", type(color2unchanged2[10][10][0]))\n",
    "print(title2, \"화소값(3원소): \", color2unchanged2[10, 10])\n",
    "print()\n",
    "\n",
    "# --- 이미지 정보 출력\n",
    "print_matInfo(title1, color2unchanged1)\n",
    "print_matInfo(title2, color2unchanged2)\n",
    "\n",
    "# --- 이미지 표시\n",
    "cv2.imshow(title1, color2unchanged1.astype('uint8'))  # 16비트를 8비트로 보기 좋게 변환\n",
    "cv2.imshow(title2, (color2unchanged2 * 255).astype('uint8'))  # 32비트 float → 8비트로 스케일링\n",
    "cv2.waitKey(0)\n",
    "cv2.destroyAllWindows()"
   ]
  },
  {
   "cell_type": "code",
   "execution_count": 2,
   "id": "d4c3b493",
   "metadata": {},
   "outputs": [
    {
     "name": "stdout",
     "output_type": "stream",
     "text": [
      "저장 완료\n"
     ]
    }
   ],
   "source": [
    "image = cv2.imread(\"C:/Users/SAMSUNG/Desktop/Pattern_Recognition_Class/read_color.jpg\", cv2.IMREAD_COLOR)\n",
    "if image is None:\n",
    "    raise Exception(\"영상 파일 읽기 에러\")\n",
    "    \n",
    "params_jpg = (cv2.IMWRITE_JPEG_QUALITY, 10)\n",
    "params_png = [cv2.IMWRITE_PNG_COMPRESSION, 9]\n",
    "\n",
    "cv2.imwrite(\"C:/Users/SAMSUNG/Desktop/Pattern_Recognition_Class/images2/write_test1.jpg\", image)\n",
    "cv2.imwrite(\"C:/Users/SAMSUNG/Desktop/Pattern_Recognition_Class/images2/write_test2.jpg\", image, params_jpg)\n",
    "cv2.imwrite(\"C:/Users/SAMSUNG/Desktop/Pattern_Recognition_Class/images2/write_test3.jpg\", image, params_png)\n",
    "cv2.imwrite(\"C:/Users/SAMSUNG/Desktop/Pattern_Recognition_Class/images2/write_test4.bmp\", image)\n",
    "\n",
    "print(\"저장 완료\")"
   ]
  },
  {
   "cell_type": "code",
   "execution_count": null,
   "id": "96215119",
   "metadata": {},
   "outputs": [
    {
     "name": "stdout",
     "output_type": "stream",
     "text": [
      "image8 행렬의 일부\n",
      " [[[189 134  91]\n",
      "  [189 134  91]\n",
      "  [189 134  91]]\n",
      "\n",
      " [[189 134  91]\n",
      "  [189 134  91]\n",
      "  [189 134  91]]]\n",
      "image16 행렬의 일부\n",
      " [[[48573 34438 23387]\n",
      "  [48573 34438 23387]\n",
      "  [48573 34438 23387]]\n",
      "\n",
      " [[48573 34438 23387]\n",
      "  [48573 34438 23387]\n",
      "  [48573 34438 23387]]]\n",
      "image32 행렬의 일부\n",
      " [[[0.7411765  0.5254902  0.35686275]\n",
      "  [0.7411765  0.5254902  0.35686275]\n",
      "  [0.7411765  0.5254902  0.35686275]]\n",
      "\n",
      " [[0.7411765  0.5254902  0.35686275]\n",
      "  [0.7411765  0.5254902  0.35686275]\n",
      "  [0.7411765  0.5254902  0.35686275]]]\n"
     ]
    }
   ],
   "source": [
    "import cv2\n",
    "import numpy as np\n",
    "\n",
    "image8 = cv2.imread(\"C:/Users/SAMSUNG/Desktop/Pattern_Recognition_Class/read_color.jpg\", cv2.IMREAD_COLOR)\n",
    "if image8 is None:\n",
    "    raise Exception(\"영상 파일 읽기 에러\")\n",
    "\n",
    "image16 = np.uint16(image8 * (65535 / 255))\n",
    "image32 = np.float32(image8 / 255.0)  # ✅ float32로 수정\n",
    "\n",
    "print(\"image8 행렬의 일부\\n\", image8[10:12, 10:13])\n",
    "print(\"image16 행렬의 일부\\n\", image16[10:12, 10:13])\n",
    "print(\"image32 행렬의 일부\\n\", image32[10:12, 10:13])\n",
    "\n",
    "# 저장 (float32는 직접 저장 안됨 → 8비트로 변환 후 저장)\n",
    "cv2.imwrite(\"C:/Users/SAMSUNG/Desktop/Pattern_Recognition_Class/images2/write_test_16.tif\", image16)\n",
    "cv2.imwrite(\"C:/Users/SAMSUNG/Desktop/Pattern_Recognition_Class/images2/write_test_32.tif\", (image32 * 255).astype('uint8'))\n",
    "\n",
    "# 표시\n",
    "cv2.imshow(\"image16\", image16.astype('uint8'))  # 보기용\n",
    "cv2.imshow(\"image32\", (image32 * 255).astype('uint8'))\n",
    "cv2.waitKey(0)\n",
    "cv2.destroyAllWindows()\n"
   ]
  },
  {
   "cell_type": "code",
   "execution_count": 4,
   "id": "26b98648",
   "metadata": {},
   "outputs": [
    {
     "name": "stdout",
     "output_type": "stream",
     "text": [
      "너비 640\n",
      "높이 480\n",
      "노출 -6.000000\n",
      "밝기 64.000000\n"
     ]
    }
   ],
   "source": [
    "import cv2\n",
    "\n",
    "def put_string(frame, text, pt, value, color = (0, 0, 255)):\n",
    "    text += str(value)\n",
    "    shade = (pt[0] + 2, pt[1] + 2)\n",
    "    font = cv2.FONT_HERSHEY_SIMPLEX\n",
    "    cv2.putText(frame, text, shade, font, 0.7, (0, 0, 0), 2)\n",
    "    cv2.putText(frame, text, pt, font, 0.7, color, 2)\n",
    "    \n",
    "capture = cv2.VideoCapture(0)\n",
    "if capture.isOpened() == False:\n",
    "    raise Exception(\"카메라 연결 안 됨.\")\n",
    "    \n",
    "print(\"너비 %d\" % capture.get(cv2.CAP_PROP_FRAME_WIDTH))\n",
    "print(\"높이 %d\" % capture.get(cv2.CAP_PROP_FRAME_HEIGHT))\n",
    "print(\"노출 %f\" % capture.get(cv2.CAP_PROP_EXPOSURE))\n",
    "print(\"밝기 %f\" % capture.get(cv2.CAP_PROP_BRIGHTNESS))"
   ]
  },
  {
   "cell_type": "code",
   "execution_count": 5,
   "id": "424e358a",
   "metadata": {},
   "outputs": [],
   "source": [
    "while True:\n",
    "    ret, frame = capture.read()\n",
    "    if not ret:\n",
    "        break\n",
    "    if cv2.waitKey(30) >= 0:\n",
    "        break\n",
    "    \n",
    "    exposure = capture.get(cv2.CAP_PROP_EXPOSURE)\n",
    "    put_string(frame, 'EXPOS: ', (10, 40), exposure)\n",
    "    \n",
    "    title = \"View Frame from Camera\"\n",
    "    cv2.imshow(title, frame)\n",
    "    \n",
    "capture.release()\n",
    "cv2.destroyAllWindows()"
   ]
  },
  {
   "cell_type": "code",
   "execution_count": 2,
   "id": "c26e3341",
   "metadata": {},
   "outputs": [],
   "source": [
    "import cv2\n",
    "\n",
    "def put_string(frame, text, pt, value, color = (0, 0, 255)):\n",
    "    text += str(value)\n",
    "    shade = (pt[0] + 2, pt[1] + 2)\n",
    "    font = cv2.FONT_HERSHEY_SIMPLEX\n",
    "    cv2.putText(frame, text, shade, font, 0.7, (0, 0, 0), 2)\n",
    "    cv2.putText(frame, text, pt, font, 0.7, color, 2)\n",
    "    \n",
    "def zoom_bar(value):\n",
    "    global capture\n",
    "    capture.set(cv2.CAP_PROP_ZOOM, value) # 줌 설정\n",
    "\n",
    "def focus_bar(value):\n",
    "    global capture\n",
    "    capture.set(cv2.CAP_PROP_FOCUS, value)\n",
    "    \n",
    "capture = cv2.VideoCapture(0)\n",
    "if capture.isOpened() == False:\n",
    "    raise Exception(\"카메라 연결 안 됨.\")"
   ]
  },
  {
   "cell_type": "code",
   "execution_count": 3,
   "id": "84c5ffb2",
   "metadata": {},
   "outputs": [],
   "source": [
    "title = \"Change Camera Properties\"\n",
    "cv2.namedWindow(title)\n",
    "cv2.createTrackbar('zoom', title, 0, 10, zoom_bar)\n",
    "cv2.createTrackbar('focus', title, 0, 40, focus_bar)\n",
    "\n",
    "while True:\n",
    "    ret, frame = capture.read()\n",
    "    if not ret:\n",
    "        break\n",
    "    if cv2.waitKey(30) >= 0:\n",
    "        break\n",
    "        \n",
    "    zoom = int(capture.get(cv2.CAP_PROP_ZOOM))\n",
    "    focus = int(capture.get(cv2.CAP_PROP_FOCUS))\n",
    "    \n",
    "    put_string(frame, 'zoom : ', (10, 240), zoom)\n",
    "    put_string(frame, 'focus : ', (10, 270), focus)\n",
    "    \n",
    "    cv2.imshow(title, frame)\n",
    "\n",
    "capture.release()\n",
    "cv2.destroyAllWindows()"
   ]
  }
 ],
 "metadata": {
  "kernelspec": {
   "display_name": "Python 3 (ipykernel)",
   "language": "python",
   "name": "python3"
  },
  "language_info": {
   "codemirror_mode": {
    "name": "ipython",
    "version": 3
   },
   "file_extension": ".py",
   "mimetype": "text/x-python",
   "name": "python",
   "nbconvert_exporter": "python",
   "pygments_lexer": "ipython3",
   "version": "3.7.16"
  }
 },
 "nbformat": 4,
 "nbformat_minor": 5
}
